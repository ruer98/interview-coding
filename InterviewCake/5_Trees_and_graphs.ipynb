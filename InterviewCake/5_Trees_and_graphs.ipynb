{
 "cells": [
  {
   "cell_type": "code",
   "execution_count": 1,
   "metadata": {},
   "outputs": [],
   "source": [
    "# Balanced Binary Tree\n",
    "# Write a function to see if a binary tree is 'superbalanced'\n",
    "# Superbalanced if difference between depths of any 2 leaf nodes is no\n",
    "# greater than one.\n",
    "\n",
    "\"\"\"\n",
    "SAMPLE BINARY TREE NODE CLASS\n",
    "class BinaryTreeNode(object):\n",
    "    def __init__(self, value):\n",
    "        self.value = value\n",
    "        self.left  = None\n",
    "        self.right = None\n",
    "\n",
    "    def insert_left(self, value):\n",
    "        self.left = BinaryTreeNode(value)\n",
    "        return self.left\n",
    "\n",
    "    def insert_right(self, value):\n",
    "        self.right = BinaryTreeNode(value)\n",
    "        return self.right\n",
    "\"\"\"\n",
    "\n",
    "def is_balanced(tree_root):\n",
    "    #tree with no nodes is superbalanced because no leaves!\n",
    "    if tree_root is None:\n",
    "        return True\n",
    "    \n",
    "    #short-circuit as soon as we find more than 2\n",
    "    depths = []\n",
    "    \n",
    "    #trath this list as a stack that will store tuples of (node, depth)"
   ]
  },
  {
   "cell_type": "code",
   "execution_count": 2,
   "metadata": {},
   "outputs": [],
   "source": [
    "# Binary Search Tree Checker\n",
    "# Write a function to check that a binary tree is a valid binary search tree."
   ]
  },
  {
   "cell_type": "code",
   "execution_count": null,
   "metadata": {},
   "outputs": [],
   "source": [
    "# 2nd Largest Item in a Binary Search Tree\n",
    "# Find the second largest element in a BST."
   ]
  },
  {
   "cell_type": "code",
   "execution_count": 3,
   "metadata": {},
   "outputs": [],
   "source": [
    "# Graph Coloring\n",
    "# Color the nodes in a graph so adjacent nodes always have different colors."
   ]
  },
  {
   "cell_type": "code",
   "execution_count": null,
   "metadata": {},
   "outputs": [],
   "source": [
    "# MeshMessage\n",
    "# Given info about active users on the network, find the shortest route  for\n",
    "# a message from one user (sender) to another (recipient). Return a list of \n",
    "# users that make up this route."
   ]
  }
 ],
 "metadata": {
  "kernelspec": {
   "display_name": "Python 3",
   "language": "python",
   "name": "python3"
  },
  "language_info": {
   "codemirror_mode": {
    "name": "ipython",
    "version": 3
   },
   "file_extension": ".py",
   "mimetype": "text/x-python",
   "name": "python",
   "nbconvert_exporter": "python",
   "pygments_lexer": "ipython3",
   "version": "3.6.5"
  }
 },
 "nbformat": 4,
 "nbformat_minor": 2
}
