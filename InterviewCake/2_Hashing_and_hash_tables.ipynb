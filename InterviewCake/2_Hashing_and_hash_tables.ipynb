{
 "cells": [
  {
   "cell_type": "code",
   "execution_count": 5,
   "metadata": {},
   "outputs": [
    {
     "name": "stdout",
     "output_type": "stream",
     "text": [
      "True\n",
      "False\n"
     ]
    }
   ],
   "source": [
    "# Inflight Entertainment\n",
    "# Write a simple recommendation algorithm that helps people choose which\n",
    "# movies to watch during a flight\n",
    "\n",
    "# Using hash-based data structures, like dictionaries or sets, \n",
    "# is so common in coding challenge solutions, it should always be your \n",
    "# first thought. Always ask yourself, right from the start: \"Can I save \n",
    "# time by using a dictionary?\"\n",
    "\n",
    "def two_movies_picker(flight_length, movie_lengths):\n",
    "    movie_lengths_seen = set()\n",
    "    \n",
    "    for movie_length in movie_lengths:\n",
    "        target = flight_length - movie_length\n",
    "        if target in movie_lengths_seen:\n",
    "            return True\n",
    "        movie_lengths_seen.add(movie_length)\n",
    "    \n",
    "    #no matches found\n",
    "    return False\n",
    "\n",
    "\n",
    "print(two_movies_picker(12,[7,3,13,5]))\n",
    "print(two_movies_picker(12,[7,3,13,4]))"
   ]
  },
  {
   "cell_type": "code",
   "execution_count": 12,
   "metadata": {},
   "outputs": [
    {
     "data": {
      "text/plain": [
       "True"
      ]
     },
     "execution_count": 12,
     "metadata": {},
     "output_type": "execute_result"
    }
   ],
   "source": [
    "# Permutation Palindrome\n",
    "# Check if any permutation of an input string is a palindrome.\n",
    "\n",
    "# One of the tricks was to use a dictionary or set.\n",
    "# This is the most common way to get from a brute force approach to \n",
    "# something more efficient. Especially for easier problems.\n",
    "\n",
    "def permutation_palindrome(string):\n",
    "    unpaired_characters = set()\n",
    "    \n",
    "    for char in string:\n",
    "        if char in unpaired_characters:\n",
    "            unpaired_characters.remove(char)\n",
    "        else:\n",
    "            unpaired_characters.add(char)\n",
    "\n",
    "    return len(unpaired_characters) <= 1\n",
    "\n",
    "def brute_force_permutation_palindrome(string):\n",
    "    if string == string[::-1]:\n",
    "        return True\n",
    "    \n",
    "    permutations = list(permutations(string))\n",
    "    for perm in permutations:\n",
    "        if perm == perm[::-1]:\n",
    "            return True\n",
    "    return False\n",
    "\n",
    "permutation_palindrome('ivicc')"
   ]
  },
  {
   "cell_type": "code",
   "execution_count": 7,
   "metadata": {},
   "outputs": [
    {
     "data": {
      "text/plain": [
       "{'this': 2, 'is': 2, 'a': 1, 'test': 1}"
      ]
     },
     "execution_count": 7,
     "metadata": {},
     "output_type": "execute_result"
    }
   ],
   "source": [
    "# Word Cloud Data\n",
    "# Write a function to figure out how many times each word appears\n",
    "\n",
    "import re \n",
    "\n",
    "def word_cloud(string):\n",
    "    string = string.lower()\n",
    "    string = string.replace(', ', ' ')\n",
    "    string_list = string.split(' ')\n",
    "    word_dictionary = {}\n",
    "    for word in string_list:\n",
    "        if word in word_dictionary:\n",
    "            word_dictionary[word] += 1\n",
    "        else:\n",
    "            word_dictionary[word] = 1\n",
    "    return word_dictionary\n",
    "\n",
    "word_cloud('this is a test this is')"
   ]
  },
  {
   "cell_type": "code",
   "execution_count": 8,
   "metadata": {},
   "outputs": [
    {
     "data": {
      "text/plain": [
       "[99, 98, 68, 30, 16, 2, 1]"
      ]
     },
     "execution_count": 8,
     "metadata": {},
     "output_type": "execute_result"
    }
   ],
   "source": [
    "# Top Scores\n",
    "# Efficiently sort numbers in an array, where each number is below \n",
    "# a certain maximum. Returns a sorted list of scores in less than O(n lg(n))\n",
    "\n",
    "#O(n) time and space where n is the number of scores\n",
    "def top_scores(unsorted_scores, highest_possible_score):\n",
    "    # list of 0s at indices 0...highest_possible_score\n",
    "    score_counts = [0] * (highest_possible_score+1)\n",
    "    \n",
    "    #populate score_counts\n",
    "    for score in unsorted_scores:\n",
    "        score_counts[score] += 1\n",
    "        \n",
    "    #populate the final sorted list\n",
    "    sorted_scores = []\n",
    "    \n",
    "    #for each item in score_counts\n",
    "    for score in range(len(score_counts) -1, -1, -1):\n",
    "        count = score_counts[score]\n",
    "        \n",
    "        #for # of times the item occurs\n",
    "        for time in range(count):\n",
    "            sorted_scores.append(score)\n",
    "    \n",
    "    return sorted_scores\n",
    "\n",
    "top_scores([1,16,30,2,68,99,98],100)"
   ]
  }
 ],
 "metadata": {
  "kernelspec": {
   "display_name": "Python 3",
   "language": "python",
   "name": "python3"
  },
  "language_info": {
   "codemirror_mode": {
    "name": "ipython",
    "version": 3
   },
   "file_extension": ".py",
   "mimetype": "text/x-python",
   "name": "python",
   "nbconvert_exporter": "python",
   "pygments_lexer": "ipython3",
   "version": "3.6.5"
  }
 },
 "nbformat": 4,
 "nbformat_minor": 2
}
