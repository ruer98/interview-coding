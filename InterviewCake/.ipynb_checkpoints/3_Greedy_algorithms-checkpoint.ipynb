{
 "cells": [
  {
   "cell_type": "code",
   "execution_count": 1,
   "metadata": {},
   "outputs": [
    {
     "ename": "SyntaxError",
     "evalue": "unexpected EOF while parsing (<ipython-input-1-7dd3b7bf3f58>, line 5)",
     "output_type": "error",
     "traceback": [
      "\u001b[1;36m  File \u001b[1;32m\"<ipython-input-1-7dd3b7bf3f58>\"\u001b[1;36m, line \u001b[1;32m5\u001b[0m\n\u001b[1;33m    def optimal_time(stock, yesterday_prices):\u001b[0m\n\u001b[1;37m                                              ^\u001b[0m\n\u001b[1;31mSyntaxError\u001b[0m\u001b[1;31m:\u001b[0m unexpected EOF while parsing\n"
     ]
    }
   ],
   "source": [
    "# Apple Stocks\n",
    "# Figure out the optimal buy and sell time for a given stock, given its\n",
    "# prices yesterday.\n",
    "\n",
    "def optimal_time(stock, yesterday_prices):"
   ]
  },
  {
   "cell_type": "code",
   "execution_count": 2,
   "metadata": {},
   "outputs": [
    {
     "ename": "SyntaxError",
     "evalue": "unexpected EOF while parsing (<ipython-input-2-70f8e442667b>, line 5)",
     "output_type": "error",
     "traceback": [
      "\u001b[1;36m  File \u001b[1;32m\"<ipython-input-2-70f8e442667b>\"\u001b[1;36m, line \u001b[1;32m5\u001b[0m\n\u001b[1;33m    def highest_product_of_3(array):\u001b[0m\n\u001b[1;37m                                    ^\u001b[0m\n\u001b[1;31mSyntaxError\u001b[0m\u001b[1;31m:\u001b[0m unexpected EOF while parsing\n"
     ]
    }
   ],
   "source": [
    "# Highest Product of 3\n",
    "# Find the highest possible product that you can get by multiplying any\n",
    "# 3 numbers from an input array.\n",
    "\n",
    "def highest_product_of_3(array):"
   ]
  },
  {
   "cell_type": "code",
   "execution_count": 3,
   "metadata": {},
   "outputs": [
    {
     "ename": "SyntaxError",
     "evalue": "unexpected EOF while parsing (<ipython-input-3-1f20193e4958>, line 4)",
     "output_type": "error",
     "traceback": [
      "\u001b[1;36m  File \u001b[1;32m\"<ipython-input-3-1f20193e4958>\"\u001b[1;36m, line \u001b[1;32m4\u001b[0m\n\u001b[1;33m    def product_of_other_numbers(array):\u001b[0m\n\u001b[1;37m                                        ^\u001b[0m\n\u001b[1;31mSyntaxError\u001b[0m\u001b[1;31m:\u001b[0m unexpected EOF while parsing\n"
     ]
    }
   ],
   "source": [
    "# Product of All Other Numbers\n",
    "# For each number in an array, find the product of all the other numbers.\n",
    "\n",
    "def product_of_other_numbers(array):"
   ]
  },
  {
   "cell_type": "code",
   "execution_count": 4,
   "metadata": {},
   "outputs": [
    {
     "ename": "SyntaxError",
     "evalue": "unexpected EOF while parsing (<ipython-input-4-1707acf7f8cd>, line 4)",
     "output_type": "error",
     "traceback": [
      "\u001b[1;36m  File \u001b[1;32m\"<ipython-input-4-1707acf7f8cd>\"\u001b[1;36m, line \u001b[1;32m4\u001b[0m\n\u001b[1;33m    def inplace_shuffle(array):\u001b[0m\n\u001b[1;37m                               ^\u001b[0m\n\u001b[1;31mSyntaxError\u001b[0m\u001b[1;31m:\u001b[0m unexpected EOF while parsing\n"
     ]
    }
   ],
   "source": [
    "# In-Place Shuffle\n",
    "# Do an in-place shuffle on an array of numbers. (tricky)\n",
    "\n",
    "def inplace_shuffle(array):"
   ]
  },
  {
   "cell_type": "code",
   "execution_count": null,
   "metadata": {},
   "outputs": [],
   "source": []
  }
 ],
 "metadata": {
  "kernelspec": {
   "display_name": "Python 3",
   "language": "python",
   "name": "python3"
  },
  "language_info": {
   "codemirror_mode": {
    "name": "ipython",
    "version": 3
   },
   "file_extension": ".py",
   "mimetype": "text/x-python",
   "name": "python",
   "nbconvert_exporter": "python",
   "pygments_lexer": "ipython3",
   "version": "3.6.5"
  }
 },
 "nbformat": 4,
 "nbformat_minor": 2
}
