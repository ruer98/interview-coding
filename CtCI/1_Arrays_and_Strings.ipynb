{
 "cells": [
  {
   "cell_type": "code",
   "execution_count": 16,
   "metadata": {},
   "outputs": [],
   "source": [
    "import unittest\n",
    "from collections import Counter"
   ]
  },
  {
   "cell_type": "code",
   "execution_count": 33,
   "metadata": {
    "scrolled": true
   },
   "outputs": [
    {
     "name": "stderr",
     "output_type": "stream",
     "text": [
      "..\n",
      "----------------------------------------------------------------------\n",
      "Ran 2 tests in 0.004s\n",
      "\n",
      "OK\n"
     ]
    }
   ],
   "source": [
    "# 1.1 Is Unique: Implement an algorithm to determine if a string has all unique characters. \n",
    "#What if you cannot use additional data structures?\n",
    "\n",
    "# O(N) time complexity (could argue O(1) since the for loop will never iterate\n",
    "# through more than 128 characters)\n",
    "# O(1) space complexity\n",
    "def is_unique(str):\n",
    "    #assuming character set is ASCII\n",
    "    if len(str) > 128:\n",
    "        return False\n",
    "    \n",
    "    char_set = [False for _ in range(128)]\n",
    "    for char in str:\n",
    "        val = ord(char)\n",
    "        if char_set[val]:\n",
    "            #cchar already found in string\n",
    "            return False\n",
    "        char_set[val] = True\n",
    "    return True\n",
    "\n",
    "#DICTIONARY SOLUTION\n",
    "def is_unique2(str):\n",
    "    if len(str) > 128:\n",
    "        return False\n",
    "    chars = {}\n",
    "    for char in str:\n",
    "        if char in chars:\n",
    "            return False\n",
    "        chars[char] = True\n",
    "    return True\n",
    "\n",
    "class Test(unittest.TestCase):\n",
    "    dataT = [('abcd'), ('s4fad'), ('')]\n",
    "    dataF = [('23ds2'), ('hb 627jh=j ()')]\n",
    "\n",
    "    def test_unique(self):\n",
    "        # true check\n",
    "        for test_string in self.dataT:\n",
    "            actual = is_unique(test_string)\n",
    "            self.assertTrue(actual)\n",
    "        # false check\n",
    "        for test_string in self.dataF:\n",
    "            actual = is_unique(test_string)\n",
    "            self.assertFalse(actual)\n",
    "    def test_unique2(self):\n",
    "        # true check\n",
    "        for test_string in self.dataT:\n",
    "            actual = is_unique(test_string)\n",
    "            self.assertTrue(actual)\n",
    "        # false check\n",
    "        for test_string in self.dataF:\n",
    "            actual = is_unique(test_string)\n",
    "            self.assertFalse(actual)\n",
    "            \n",
    "if __name__ == \"__main__\":\n",
    "    unittest.main(argv=['first-arg-is-ignored'], exit=False)"
   ]
  },
  {
   "cell_type": "code",
   "execution_count": 41,
   "metadata": {},
   "outputs": [
    {
     "name": "stderr",
     "output_type": "stream",
     "text": [
      "..\n",
      "----------------------------------------------------------------------\n",
      "Ran 2 tests in 0.005s\n",
      "\n",
      "OK\n"
     ]
    }
   ],
   "source": [
    "# 1.2 Check Permutation: Given two strings, write a method to decide if one is a permutation of the other.\n",
    "\n",
    "def check_permutation(str1, str2):\n",
    "    if len(str1) != len(str2):\n",
    "        return False\n",
    "    counter = Counter()\n",
    "    for c in str1:\n",
    "        counter[c] += 1\n",
    "    for c in str2:\n",
    "        if counter[c] == 0:\n",
    "            return False\n",
    "        counter[c] -= 1\n",
    "    return True\n",
    "\n",
    "#SORTING SOLUTION\n",
    "def check_permutation2(str1, str2):\n",
    "    if len(str1) != len(str2):\n",
    "        return False\n",
    "    return (sorted(str1) == sorted(str2))\n",
    "    \n",
    "class Test(unittest.TestCase):\n",
    "    dataT = (\n",
    "        ('abcd', 'bacd'),\n",
    "        ('3563476', '7334566'),\n",
    "        ('wef34f', 'wffe34'),\n",
    "    )\n",
    "    dataF = (\n",
    "        ('abcd', 'd2cba'),\n",
    "        ('2354', '1234'),\n",
    "        ('dcw4f', 'dcw5f'),\n",
    "    )\n",
    "\n",
    "    def test_cp(self):\n",
    "        # true check\n",
    "        for test_strings in self.dataT:\n",
    "            result = check_permutation(*test_strings)\n",
    "            self.assertTrue(result)\n",
    "        # false check\n",
    "        for test_strings in self.dataF:\n",
    "            result = check_permutation(*test_strings)\n",
    "            self.assertFalse(result)\n",
    "    def test_cp2(self):\n",
    "        # true check\n",
    "        for test_strings in self.dataT:\n",
    "            result = check_permutation2(*test_strings)\n",
    "            self.assertTrue(result)\n",
    "        # false check\n",
    "        for test_strings in self.dataF:\n",
    "            result = check_permutation2(*test_strings)\n",
    "            self.assertFalse(result)\n",
    "\n",
    "\n",
    "if __name__ == \"__main__\":\n",
    "    unittest.main(argv=['first-arg-is-ignored'], exit=False)"
   ]
  },
  {
   "cell_type": "code",
   "execution_count": 47,
   "metadata": {},
   "outputs": [
    {
     "data": {
      "text/plain": [
       "5"
      ]
     },
     "execution_count": 47,
     "metadata": {},
     "output_type": "execute_result"
    }
   ],
   "source": [
    "# 1.3 URLify: Write a methond to replace all spaces om a stromg with '%20'. You may assume that the string\n",
    "# has sufficient space at the end to hold the additional characters, and that you are given the \"true\"\n",
    "# length of the string.\n",
    "\n",
    "def urlify(str, lngth):\n",
    "    \n",
    "\n",
    "class Test(unittest.TestCase):\n",
    "    '''Test Cases'''\n",
    "    # Using lists because Python strings are immutable\n",
    "    data = [\n",
    "        (list('much ado about nothing      '), 22,\n",
    "         list('much%20ado%20about%20nothing')),\n",
    "        (list('Mr John Smith    '), 13, list('Mr%20John%20Smith'))]\n",
    "\n",
    "    def test_urlify(self):\n",
    "        for [test_string, length, expected] in self.data:\n",
    "            actual = urlify(test_string, length)\n",
    "            self.assertEqual(actual, expected)\n",
    "\n",
    "if __name__ == \"__main__\":\n",
    "    unittest.main(argv=['first-arg-is-ignored'], exit=False)"
   ]
  },
  {
   "cell_type": "code",
   "execution_count": 3,
   "metadata": {},
   "outputs": [],
   "source": [
    "# 1.4 Palindrome Permutation: Given a string, write a function to check if it is a permuation of a palindrome.\n",
    "# The palindrome does not need to be limited to just dictionary words. You can ignore casing and non-letter\n",
    "# characters."
   ]
  },
  {
   "cell_type": "code",
   "execution_count": 4,
   "metadata": {},
   "outputs": [],
   "source": [
    "# 1.5 One Away: There are 3 types of edits that can be performed on strings: insert a character, remove a character,\n",
    "# or replace a character. Given two strings, write a function to check if they are one edit (or zero edits) away."
   ]
  },
  {
   "cell_type": "code",
   "execution_count": 5,
   "metadata": {},
   "outputs": [],
   "source": [
    "# 1.6 String Compression:"
   ]
  },
  {
   "cell_type": "code",
   "execution_count": 6,
   "metadata": {},
   "outputs": [],
   "source": [
    "# 1.7 Rotate Matrix:"
   ]
  },
  {
   "cell_type": "code",
   "execution_count": 7,
   "metadata": {},
   "outputs": [],
   "source": [
    "# 1.8 Zero Matrix:"
   ]
  },
  {
   "cell_type": "code",
   "execution_count": null,
   "metadata": {},
   "outputs": [],
   "source": [
    "# 1.9 String Rotation:"
   ]
  }
 ],
 "metadata": {
  "kernelspec": {
   "display_name": "Python 3",
   "language": "python",
   "name": "python3"
  },
  "language_info": {
   "codemirror_mode": {
    "name": "ipython",
    "version": 3
   },
   "file_extension": ".py",
   "mimetype": "text/x-python",
   "name": "python",
   "nbconvert_exporter": "python",
   "pygments_lexer": "ipython3",
   "version": "3.6.5"
  }
 },
 "nbformat": 4,
 "nbformat_minor": 2
}
