{
 "cells": [
  {
   "cell_type": "code",
   "execution_count": 8,
   "metadata": {},
   "outputs": [
    {
     "data": {
      "text/plain": [
       "5"
      ]
     },
     "execution_count": 8,
     "metadata": {},
     "output_type": "execute_result"
    }
   ],
   "source": [
    "# Find Rotation Point\n",
    "# Write a function for finding the index of the \"rotation point,\" which is\n",
    "# where I started working from the beginning of the dictionary.\n",
    "\"\"\"\n",
    "Binary search teaches us that when a list is sorted or mostly sorted:\n",
    "\n",
    "1. The value at a given index tells us a lot about what's to the left and \n",
    "   what's to the right.\n",
    "2. We don't have to look at every item in the list. By inspecting the middle \n",
    "   item, we can \"rule out\" half of the list.\n",
    "3. We can use this approach over and over, cutting the problem in half until \n",
    "   we have the answer. This is sometimes called \"divide and conquer.\"\n",
    "\"\"\"\n",
    "\n",
    "def find_rotation_point(words): #O(lg n) time and O(1) space\n",
    "    first_word = words[0]\n",
    "    floor_index = 0\n",
    "    ceiling_index = len(words) - 1\n",
    "    \n",
    "    while floor_index < ceiling_index:\n",
    "        #guess a point halfway b/w floor and ceiling\n",
    "        guess_index = floor_index + ((ceiling_index - floor_index) // 2)\n",
    "        \n",
    "        #if guess comes after first words or is the first word\n",
    "        if words[guess_index] >= first_word:\n",
    "            #go right\n",
    "            floor_index = guess_index\n",
    "        else:\n",
    "            #go left\n",
    "            ceiling_index = guess_index\n",
    "        \n",
    "        #if floor and ceiling have converged\n",
    "        if floor_index + 1 == ceiling_index:\n",
    "            return ceiling_index\n",
    "        \n",
    "    #no rotation is found\n",
    "    return 0\n",
    "        \n",
    "words = [\n",
    "    'ptolemaic',\n",
    "    'retrograde',\n",
    "    'supplant',\n",
    "    'undulate',\n",
    "    'xenoepist',\n",
    "    'asymptote',  # <-- rotates here!\n",
    "    'babka',\n",
    "    'banoffee',\n",
    "    'engender',\n",
    "    'karpatka',\n",
    "    'othellolagkage'\n",
    "]\n",
    "find_rotation_point(words)"
   ]
  },
  {
   "cell_type": "code",
   "execution_count": 19,
   "metadata": {},
   "outputs": [
    {
     "data": {
      "text/plain": [
       "2"
      ]
     },
     "execution_count": 19,
     "metadata": {},
     "output_type": "execute_result"
    }
   ],
   "source": [
    "# Find Repeat, Space Edition\n",
    "# Figure out which number is repeated. But here's the catch: \n",
    "# optimize for space.\n",
    "\n",
    "def find_repeat(numbers): #O(n lg n) time O(1) space\n",
    "    floor = 1\n",
    "    ceiling = len(numbers) - 1\n",
    "    \n",
    "    while floor < ceiling:\n",
    "        midpoint = floor + ((ceiling - floor)//2)\n",
    "        lower_range_floor, lower_range_ceiling = floor, midpoint\n",
    "        upper_range_floor, upper_range_ceiling = midpoint+1, ceiling\n",
    "        \n",
    "        #count # items in lower range\n",
    "        items_in_lower_range = 0\n",
    "        for item in numbers:\n",
    "            #is it in the lower range?\n",
    "            if item >= lower_range_floor and item <= lower_range_ceiling:\n",
    "                items_in_lower_range += 1\n",
    "        \n",
    "        distinct_possible_integers_in_lower_range = (\n",
    "            lower_range_ceiling\n",
    "            - lower_range_floor\n",
    "            + 1\n",
    "        )\n",
    "        if items_in_lower_range > distinct_possible_integers_in_lower_range:\n",
    "            # There must be a duplicate in the lower range\n",
    "            # so use the same approach iteratively on that range\n",
    "            floor, ceiling = lower_range_floor, lower_range_ceiling\n",
    "        else:\n",
    "            # There must be a duplicate in the upper range\n",
    "            # so use the same approach iteratively on that range\n",
    "            floor, ceiling = upper_range_floor, upper_range_ceiling\n",
    "\n",
    "    # Floor and ceiling have converged\n",
    "    # We found a number that repeats!\n",
    "    return floor\n",
    "    \n",
    "\n",
    "def find_repeat_brute_force(numbers): #O(n^2) time O(1) space\n",
    "    for needle in range(1, len(numbers)):\n",
    "        has_been_seen = False\n",
    "        for number in numbers:\n",
    "            if number == needle:\n",
    "                if has_been_seen:\n",
    "                    return number\n",
    "                else:\n",
    "                    has_been_seen = True\n",
    "    raise Exception('no duplicate!')\n",
    "\n",
    "def find_repeat2(numbers): #O(n) space O(n) time\n",
    "    found = set()\n",
    "    for number in numbers:\n",
    "        if number in found:\n",
    "            return number\n",
    "        else:\n",
    "            found.add(number)\n",
    "    return False\n",
    "\n",
    "find_repeat([1,2,3,4,2,5,6,7])"
   ]
  }
 ],
 "metadata": {
  "kernelspec": {
   "display_name": "Python 3",
   "language": "python",
   "name": "python3"
  },
  "language_info": {
   "codemirror_mode": {
    "name": "ipython",
    "version": 3
   },
   "file_extension": ".py",
   "mimetype": "text/x-python",
   "name": "python",
   "nbconvert_exporter": "python",
   "pygments_lexer": "ipython3",
   "version": "3.6.5"
  }
 },
 "nbformat": 4,
 "nbformat_minor": 2
}
