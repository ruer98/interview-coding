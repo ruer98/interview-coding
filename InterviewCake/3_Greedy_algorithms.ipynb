{
 "cells": [
  {
   "cell_type": "code",
   "execution_count": 6,
   "metadata": {},
   "outputs": [
    {
     "data": {
      "text/plain": [
       "10"
      ]
     },
     "execution_count": 6,
     "metadata": {},
     "output_type": "execute_result"
    }
   ],
   "source": [
    "# Apple Stocks\n",
    "# Figure out the optimal buy and sell time for a given stock, given its\n",
    "# prices yesterday.\n",
    "\"\"\"\n",
    "This one's a good example of the greedy ↴ approach in action. Greedy \n",
    "approaches are great because they're fast (usually just one pass through \n",
    "the input). But they don't work for every problem.\n",
    "1. see if you could come up with the answer in one pass through the input\n",
    "   by updating the 'best so far' as we went\n",
    "\"\"\"\n",
    "\n",
    "\"\"\"\n",
    "EDGE CASES: \n",
    "1. price goes down the whole day: should give either negative value\n",
    "   OR raise an error saying you shouldn't buy that day. We go with the\n",
    "   first option since we want to know how much we would've lost if we\n",
    "   invested that day\n",
    "\"\"\"\n",
    "def get_max_profit(stock_prices): #O(n) time O(1) space\n",
    "    if len(stock_prices) < 2:\n",
    "        raise ValueError('Getting a profit requires at least 2 prices')\n",
    "    \n",
    "    #we'll greedily update these values\n",
    "    min_price = stock_prices[0]    \n",
    "    max_profit = stock_prices[1] - stock_prices[0]\n",
    "    \n",
    "    for current_time in range(1,len(stock_prices)):\n",
    "        current_price = stock_prices[current_time]\n",
    "        \n",
    "        potential_profit = current_price - min_price\n",
    "        \n",
    "        max_profit = max(max_profit, potential_profit)\n",
    "        \n",
    "        # update after max profit so that you are not using\n",
    "        # the current price as the minimum price, leading to\n",
    "        # always have at least 0 for the minimum price\n",
    "        min_price = min(min_price, current_price)\n",
    "        \n",
    "    return max_profit\n",
    "\n",
    "def get_max_profit_better_bf(stock_prices):\n",
    "    max_profit = 0\n",
    "    for earlier_time, earlier_price in enumerate(stock_prices):\n",
    "        for later_time in range(earlier_time+1,len(stock_prices)):\n",
    "            later_price = stock_prices[later_time]\n",
    "            potential_profit = later_price - earlier_price\n",
    "            if potential_profit > max_profit:\n",
    "                max_profit = potential_profit\n",
    "    \n",
    "    return max_profit\n",
    "\n",
    "def get_max_profit_bf(stock_prices): #O(n^2) time and WRONG\n",
    "    max_profit = 0\n",
    "    \n",
    "    #go through every time\n",
    "    for outer_time in range(len(stock_prices)):\n",
    "        #for every time, go through every other time\n",
    "        for inner_time in range(len(stock_prices)):\n",
    "            earlier_time = min(outer_time, inner_time)\n",
    "            later_time = max(outer_time, inner_time)\n",
    "        \n",
    "            #use those to find earlier and later prices\n",
    "            earlier_price = stock_prices[earlier_time]\n",
    "            later_price = stock_prices[later_time]\n",
    "            \n",
    "            potential_profit = later_price - earlier_price\n",
    "            \n",
    "            if potential_profit > max_profit:\n",
    "                max_profit = potential_profit\n",
    "    \n",
    "    return max_profit\n",
    "get_max_profit([10,15,11,20])"
   ]
  },
  {
   "cell_type": "code",
   "execution_count": 15,
   "metadata": {},
   "outputs": [
    {
     "data": {
      "text/plain": [
       "693"
      ]
     },
     "execution_count": 15,
     "metadata": {},
     "output_type": "execute_result"
    }
   ],
   "source": [
    "# Highest Product of 3\n",
    "# Find the highest possible product that you can get by multiplying any\n",
    "# 3 numbers from an input array.\n",
    "\n",
    "def highest_product_of_3(list_of_ints): #O(n) time O(1) space\n",
    "    if len(list_of_ints) < 3:\n",
    "        raise ValueError('need at least 3 integers!')\n",
    "    \n",
    "    highest = max(list_of_ints[0], list_of_ints[1])\n",
    "    lowest  = min(list_of_ints[0], list_of_ints[1])\n",
    "    highest_product_of_2 = list_of_ints[0] * list_of_ints[1]\n",
    "    lowest_product_of_2  = list_of_ints[0] * list_of_ints[1]\n",
    "    highest_product_of_3 = list_of_ints[0] * list_of_ints[1] * list_of_ints[2]\n",
    "    \n",
    "    #walk through items starting at index 2\n",
    "    for i in range(2, len(list_of_ints)):\n",
    "        current = list_of_ints[i]\n",
    "        \n",
    "        highest_product_of_3 = max(highest_product_of_3,\n",
    "                                   current * highest_product_of_2,\n",
    "                                   current * lowest_product_of_2)\n",
    "        highest_product_of_2 = max(highest_product_of_2,\n",
    "                                   current * highest,\n",
    "                                   current * lowest)\n",
    "        highest = max(highest, current)\n",
    "        lowest_product_of_2 = min(lowest_product_of_2,\n",
    "                                  current * highest,\n",
    "                                  current * lowest)\n",
    "        lowest = min(lowest, current)\n",
    "        \n",
    "    return highest_product_of_3\n",
    "    \n",
    "#WRONG because negatives can exist\n",
    "def highest_product_of_3_sort(list_of_ints):\n",
    "    list_of_ints.sort()\n",
    "    \n",
    "    max_product = 1\n",
    "    for int in list_of_ints[-3:]:\n",
    "        max_product *= int\n",
    "        \n",
    "    return max_product\n",
    "\n",
    "highest_product_of_3([-11,5,4,-7,3,9])"
   ]
  },
  {
   "cell_type": "code",
   "execution_count": 23,
   "metadata": {},
   "outputs": [
    {
     "data": {
      "text/plain": [
       "[84, 12, 28, 21]"
      ]
     },
     "execution_count": 23,
     "metadata": {},
     "output_type": "execute_result"
    }
   ],
   "source": [
    "# Product of All Other Numbers\n",
    "# For each number in an array, find the product of all the other numbers.\n",
    "\n",
    "\"\"\"\n",
    "So that's a pattern that can be applied to other problems:\n",
    "\n",
    "Start with a brute force solution, look for repeat work in that solution, \n",
    "and modify it to only do that work once.\n",
    "\"\"\"\n",
    "\n",
    "def get_product_of_all_ints_except_at_index(int_list):\n",
    "    if len(int_list) < 2:\n",
    "        raise IndexError('Requires at least 2 numbers')\n",
    "        \n",
    "    product_of_all_ints_except_at_index = [None] * len(int_list)\n",
    "    \n",
    "    product_before = 1\n",
    "    #total of before integers\n",
    "    for i in range(len(int_list)):\n",
    "        product_of_all_ints_except_at_index[i] = product_before\n",
    "        product_before *= int_list[i]\n",
    "    \n",
    "    product_after = 1\n",
    "    #total of after integers\n",
    "    for i in range (len(int_list)-1, -1, -1):\n",
    "        product_of_all_ints_except_at_index[i] *= product_after\n",
    "        product_after *= int_list[i]\n",
    "        \n",
    "    return product_of_all_ints_except_at_index\n",
    "\n",
    "def get_product_of_all_ints_except_at_index_simple(int_list):\n",
    "    total = 1\n",
    "    for int in int_list:\n",
    "        total *= int\n",
    "    \n",
    "    for i in range(len(int_list)):\n",
    "        if i != 0:\n",
    "            int_list[i] = total // int_list[i]\n",
    "        else:\n",
    "            int_list[i]\n",
    "    \n",
    "    return int_list\n",
    "\n",
    "get_product_of_all_ints_except_at_index([1,7,3,4])"
   ]
  },
  {
   "cell_type": "code",
   "execution_count": 42,
   "metadata": {},
   "outputs": [
    {
     "data": {
      "text/plain": [
       "[1, 5, 3, 2, 6, 4]"
      ]
     },
     "execution_count": 42,
     "metadata": {},
     "output_type": "execute_result"
    }
   ],
   "source": [
    "# In-Place Shuffle\n",
    "# Do an in-place shuffle on an array of numbers. (tricky)\n",
    "\n",
    "\"\"\"\n",
    "This is the Fisher-Yates shuffle (sometimes called the Knuth shuffle)\n",
    "\"\"\"\n",
    "import random\n",
    "\n",
    "def get_random(floor, ceiling):\n",
    "    return random.randrange(floor, ceiling + 1)\n",
    "\n",
    "def inplace_shuffle(array): #O(n) time O(1) space\n",
    "    #return same array if 1 or no items\n",
    "    if len(array) <= 1:\n",
    "        return array\n",
    "    \n",
    "    last_index = len(array)-1\n",
    "    for index in range(last_index):\n",
    "        random_choice_index = get_random(index, last_index)\n",
    "        \n",
    "        if random_choice_index != index:\n",
    "            array[index], array[random_choice_index] = \\\n",
    "            array[random_choice_index], array[index]\n",
    "        \n",
    "test_list = [1,2,3,4,5,6]\n",
    "inplace_shuffle(test_list)\n",
    "test_list"
   ]
  }
 ],
 "metadata": {
  "kernelspec": {
   "display_name": "Python 3",
   "language": "python",
   "name": "python3"
  },
  "language_info": {
   "codemirror_mode": {
    "name": "ipython",
    "version": 3
   },
   "file_extension": ".py",
   "mimetype": "text/x-python",
   "name": "python",
   "nbconvert_exporter": "python",
   "pygments_lexer": "ipython3",
   "version": "3.6.5"
  }
 },
 "nbformat": 4,
 "nbformat_minor": 2
}
