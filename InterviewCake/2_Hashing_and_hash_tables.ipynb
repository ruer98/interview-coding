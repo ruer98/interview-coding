{
 "cells": [
  {
   "cell_type": "code",
   "execution_count": 5,
   "metadata": {},
   "outputs": [
    {
     "name": "stdout",
     "output_type": "stream",
     "text": [
      "True\n",
      "False\n"
     ]
    }
   ],
   "source": [
    "# Inflight Entertainment\n",
    "# Write a simple recommendation algorithm that helps people choose which\n",
    "# movies to watch during a flight\n",
    "\n",
    "# Using hash-based data structures, like dictionaries or sets, \n",
    "# is so common in coding challenge solutions, it should always be your \n",
    "# first thought. Always ask yourself, right from the start: \"Can I save \n",
    "# time by using a dictionary?\"\n",
    "\n",
    "def two_movies_picker(flight_length, movie_lengths):\n",
    "    movie_lengths_seen = set()\n",
    "    \n",
    "    for movie_length in movie_lengths:\n",
    "        target = flight_length - movie_length\n",
    "        if target in movie_lengths_seen:\n",
    "            return True\n",
    "        movie_lengths_seen.add(movie_length)\n",
    "    \n",
    "    #no matches found\n",
    "    return False\n",
    "\n",
    "\n",
    "print(two_movies_picker(12,[7,3,13,5]))\n",
    "print(two_movies_picker(12,[7,3,13,4]))"
   ]
  },
  {
   "cell_type": "code",
   "execution_count": null,
   "metadata": {},
   "outputs": [],
   "source": [
    "# Permutation Palindrome\n",
    "# Check if any permutation of an input string is a palindrome.\n",
    "\n",
    "def permutation_palindrome(string):\n",
    "    "
   ]
  }
 ],
 "metadata": {
  "kernelspec": {
   "display_name": "Python 3",
   "language": "python",
   "name": "python3"
  },
  "language_info": {
   "codemirror_mode": {
    "name": "ipython",
    "version": 3
   },
   "file_extension": ".py",
   "mimetype": "text/x-python",
   "name": "python",
   "nbconvert_exporter": "python",
   "pygments_lexer": "ipython3",
   "version": "3.6.5"
  }
 },
 "nbformat": 4,
 "nbformat_minor": 2
}
