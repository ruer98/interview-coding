{
 "cells": [
  {
   "cell_type": "code",
   "execution_count": 1,
   "metadata": {},
   "outputs": [],
   "source": [
    "import unittest"
   ]
  },
  {
   "cell_type": "code",
   "execution_count": 2,
   "metadata": {},
   "outputs": [
    {
     "name": "stderr",
     "output_type": "stream",
     "text": [
      ".\n",
      "----------------------------------------------------------------------\n",
      "Ran 1 test in 0.004s\n",
      "\n",
      "OK\n"
     ]
    }
   ],
   "source": [
    "# Merging Meeting Times\n",
    "# Write a function merge_ranges() that takes a list of multiple meeting \n",
    "# time ranges and returns a list of condensed ranges.\n",
    "\n",
    "def merge_ranges(meetings):\n",
    "    #sort by start time (first index)\n",
    "    sorted_meetings = sorted(meetings) #O(n lg(n))\n",
    "    \n",
    "    # initialize merged_meetings with the earliest meeting\n",
    "    merged_meetings = [sorted_meetings[0]]\n",
    "    \n",
    "    for current_meeting_start, current_meeting_end in sorted_meetings[1:]:\n",
    "        last_merged_meeting_start, last_merged_meeting_end = merged_meetings[-1]\n",
    "        \n",
    "        # if current meeting overlaps with last merged meeting, use\n",
    "        # later end time of the two\n",
    "        if (current_meeting_start <= last_merged_meeting_end):\n",
    "            merged_meetings[-1] = (last_merged_meeting_start,\n",
    "                                   max(last_merged_meeting_end,\n",
    "                                       current_meeting_end))\n",
    "        else:\n",
    "            merged_meetings.append((current_meeting_start, current_meeting_end))\n",
    "    \n",
    "    return merged_meetings\n",
    "\n",
    "class Test(unittest.TestCase):\n",
    "    data = [([(1,3),(2,4)], [(1,4)]),\n",
    "            ([(1,3),(3,5)], [(1,5)])]\n",
    "    \n",
    "    def test_merge_ranges(self):\n",
    "        for [meetings, expected] in self.data:\n",
    "            actual = merge_ranges(meetings)\n",
    "            self.assertEqual(actual, expected)\n",
    "            \n",
    "if __name__ == \"__main__\":\n",
    "    unittest.main(argv=['first-arg-is-ignored'], exit=False)"
   ]
  },
  {
   "cell_type": "code",
   "execution_count": 3,
   "metadata": {},
   "outputs": [
    {
     "name": "stdout",
     "output_type": "stream",
     "text": [
      "cba\n"
     ]
    }
   ],
   "source": [
    "# Reverse String in Place\n",
    "# Write a function to reverse a string in place.\n",
    "\n",
    "def reverse_string(char_list):    \n",
    "    left_index = 0\n",
    "    right_index = len(char_list)-1\n",
    "    \n",
    "    while left_index < right_index:\n",
    "        #swap characters\n",
    "        char_list[left_index],char_list[right_index] = char_list[right_index],\\\n",
    "                                                       char_list[left_index]\n",
    "        #move towards the middle\n",
    "        left_index += 1\n",
    "        right_index -= 1\n",
    "\n",
    "chars = ['a','b','c']\n",
    "reverse_string(chars)\n",
    "print(''.join(chars))"
   ]
  },
  {
   "cell_type": "code",
   "execution_count": 4,
   "metadata": {},
   "outputs": [
    {
     "name": "stdout",
     "output_type": "stream",
     "text": [
      "landed has eagle the\n"
     ]
    }
   ],
   "source": [
    "# Reverse Words\n",
    "# Write a function to reverse the word order of a string, in place.\n",
    "\n",
    "def reverse_words(message):\n",
    "    #reverse all characters in message\n",
    "    reverse_characters(message,0,len(message)-1)\n",
    "    \n",
    "    # hold start index of the current word\n",
    "    #\n",
    "    current_word_start_index = 0\n",
    "    \n",
    "    for i in range(len(message)+1):\n",
    "        #word is found at space or end of message\n",
    "        if (i==len(message)) or (message[i] == ' '):\n",
    "            #reverse word back into order\n",
    "            reverse_characters(message, current_word_start_index, i - 1)\n",
    "            #start of next word is after the space\n",
    "            current_word_start_index = i + 1\n",
    "    \n",
    "\n",
    "def reverse_characters(message,left_index,right_index):\n",
    "    #walk towards middle from both sides\n",
    "    while left_index < right_index:\n",
    "        message[left_index],message[right_index] = message[right_index],\\\n",
    "                                                   message[left_index]\n",
    "        left_index += 1\n",
    "        right_index -= 1\n",
    "\n",
    "message = [ 't', 'h', 'e', ' ', 'e', 'a', 'g', 'l', 'e', ' ',\\\n",
    "            'h', 'a', 's', ' ', 'l', 'a', 'n', 'd', 'e', 'd' ]\n",
    "reverse_words(message)\n",
    "print(''.join(message))"
   ]
  },
  {
   "cell_type": "code",
   "execution_count": 11,
   "metadata": {},
   "outputs": [
    {
     "name": "stdout",
     "output_type": "stream",
     "text": [
      "[1, 3, 4, 5, 6, 8, 10, 11, 12, 14, 15, 19]\n",
      "[1, 3, 4, 5, 6, 8, 10, 11, 12, 14, 15, 19]\n"
     ]
    }
   ],
   "source": [
    "# Merge Sorted Arrays\n",
    "# Write a function for consolidating cookie orders and taking over the world.\n",
    "\n",
    "def merge_lists(list1, list2):\n",
    "    merged_list_size = len(list1) + len(list2)\n",
    "    merged_list = [None] * merged_list_size\n",
    "    \n",
    "    current_index1 = 0\n",
    "    current_index2 = 0\n",
    "    current_index_merged = 0\n",
    "    while current_index_merged < merged_list_size:\n",
    "        is_list1_exhausted = current_index1 >= len(list1)\n",
    "        is_list2_exhausted = current_index2 >= len(list2)\n",
    "        # takes advantage of shirt-circuit evaluation in Python\n",
    "        # if list1 is exhausted, it will ignore rest of statement\n",
    "        # and move to the else statement without giving a KeyError\n",
    "        if (not is_list1_exhausted and (is_list2_exhausted or\n",
    "            list1[current_index1] < list2[current_index2])):\n",
    "            \n",
    "            merged_list[current_index_merged] = list1[current_index1]\n",
    "            current_index1 += 1\n",
    "        else:\n",
    "            merged_list[current_index_merged] = list2[current_index2]\n",
    "            current_index2 += 1\n",
    "        \n",
    "        current_index_merged += 1\n",
    "    \n",
    "    return merged_list\n",
    "\n",
    "def merge_lists2(list1, list2):\n",
    "    return sorted(list1+list2)\n",
    "\n",
    "a = [3,4,6,10,11,15]\n",
    "b = [1,5,8,12,14,19]\n",
    "print(merge_lists(a,b))\n",
    "print(merge_lists2(a,b))"
   ]
  },
  {
   "cell_type": "code",
   "execution_count": 16,
   "metadata": {},
   "outputs": [
    {
     "name": "stdout",
     "output_type": "stream",
     "text": [
      "False\n",
      "True\n",
      "False\n",
      "True\n"
     ]
    }
   ],
   "source": [
    "# Cafe Order Checker\n",
    "# Write a function to tell us if cafe customer orders are served in the\n",
    "# same order they're paid for.\n",
    "\n",
    "#O(n) time and O(1) space\n",
    "def order_checker(take_out_orders, dine_in_orders, served_orders):\n",
    "    take_out_orders_index = 0\n",
    "    dine_in_orders_index = 0\n",
    "    take_out_orders_max_index = len(take_out_orders) - 1\n",
    "    dine_in_orders_max_index = len(dine_in_orders) - 1\n",
    "    \n",
    "    for order in served_orders:\n",
    "        # If we still have orders in take_out_orders\n",
    "        # and the current order in take_out_orders is the same\n",
    "        # as the current order in served_orders\n",
    "        if take_out_orders_index <= take_out_orders_max_index and order == take_out_orders[take_out_orders_index]:\n",
    "            take_out_orders_index += 1\n",
    "\n",
    "        # If we still have orders in dine_in_orders\n",
    "        # and the current order in dine_in_orders is the same\n",
    "        # as the current order in served_orders\n",
    "        elif dine_in_orders_index <= dine_in_orders_max_index and order == dine_in_orders[dine_in_orders_index]:\n",
    "            dine_in_orders_index += 1\n",
    "\n",
    "        # If the current order in served_orders doesn't match the current\n",
    "        # order in take_out_orders or dine_in_orders, then we're not serving first-come,\n",
    "        # first-served.\n",
    "        else:\n",
    "            return False\n",
    "\n",
    "    # Check for any extra orders at the end of take_out_orders or dine_in_orders\n",
    "    if dine_in_orders_index != len(dine_in_orders) or take_out_orders_index != len(take_out_orders):\n",
    "        return False\n",
    "\n",
    "    # All orders in served_orders have been \"accounted for\"\n",
    "    # so we're serving first-come, first-served!\n",
    "    return True\n",
    "    \n",
    "#O(n^2) time and space\n",
    "def order_checker_recursive(take_out_orders, dine_in_orders, served_orders):\n",
    "    # base case\n",
    "    if len(served_orders) == 0:\n",
    "        return True\n",
    "    \n",
    "    if len(take_out_orders) and take_out_orders[0] == served_orders[0]:\n",
    "        return order_checker(take_out_orders[1:], dine_in_orders, served_orders[1:])\n",
    "    elif len(dine_in_orders) and dine_in_orders[0] == served_orders[0]:\n",
    "        return order_checker(take_out_orders, dine_in_orders[1:], served_orders[1:])\n",
    "    #not first come first serve\n",
    "    else:\n",
    "        return False\n",
    "\n",
    "take_outF = [1,3,5]\n",
    "dine_inF  = [2,4,6]\n",
    "served_ordersF = [1,2,4,6,5,3]\n",
    "\n",
    "take_outT = [17,8,24]\n",
    "dine_inT= [12,19,2]\n",
    "served_ordersT = [17,8,12,19,24,2]\n",
    "\n",
    "print(order_checker(take_outF, dine_inF, served_ordersF))\n",
    "print(order_checker(take_outT, dine_inT, served_ordersT))\n",
    "print(order_checker_recursive(take_outF, dine_inF, served_ordersF))\n",
    "print(order_checker_recursive(take_outT, dine_inT, served_ordersT))"
   ]
  }
 ],
 "metadata": {
  "kernelspec": {
   "display_name": "Python 3",
   "language": "python",
   "name": "python3"
  },
  "language_info": {
   "codemirror_mode": {
    "name": "ipython",
    "version": 3
   },
   "file_extension": ".py",
   "mimetype": "text/x-python",
   "name": "python",
   "nbconvert_exporter": "python",
   "pygments_lexer": "ipython3",
   "version": "3.6.5"
  }
 },
 "nbformat": 4,
 "nbformat_minor": 2
}
