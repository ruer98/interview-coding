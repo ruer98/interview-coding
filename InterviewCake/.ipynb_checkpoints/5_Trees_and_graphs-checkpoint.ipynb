{
 "cells": [
  {
   "cell_type": "code",
   "execution_count": 3,
   "metadata": {},
   "outputs": [],
   "source": [
    "# Balanced Binary Tree\n",
    "# Write a function to see if a binary tree is 'superbalanced'\n",
    "# Superbalanced if difference between depths of any 2 leaf nodes is no\n",
    "# greater than one.\n",
    "\n",
    "\"\"\"\n",
    "SAMPLE BINARY TREE NODE CLASS\n",
    "class BinaryTreeNode(object):\n",
    "    def __init__(self, value):\n",
    "        self.value = value\n",
    "        self.left  = None\n",
    "        self.right = None\n",
    "\n",
    "    def insert_left(self, value):\n",
    "        self.left = BinaryTreeNode(value)\n",
    "        return self.left\n",
    "\n",
    "    def insert_right(self, value):\n",
    "        self.right = BinaryTreeNode(value)\n",
    "        return self.right\n",
    "\"\"\"\n",
    "\n",
    "\"\"\"\n",
    "Focus on DFS vs. BFS. Should be comfortable with differences between the two\n",
    "and strengths and weaknesses. BFS uses a queue and DFS uses a stack.\n",
    "\"\"\"\n",
    "\n",
    "def is_balanced(tree_root): #O(n) time and O(n) space\n",
    "    #tree with no nodes is superbalanced because no leaves!\n",
    "    if tree_root is None:\n",
    "        return True\n",
    "    \n",
    "    #short-circuit as soon as we find more than 2\n",
    "    depths = []\n",
    "    \n",
    "    #treat this list as a stack that will store tuples of (node, depth)\n",
    "    nodes = []\n",
    "    nodes.append((tree_root, 0))\n",
    "    \n",
    "    while len(nodes):\n",
    "        #pop a node and its depth from top of stack\n",
    "        node, depth = nodes.pop()\n",
    "        \n",
    "        # CASE: found a leaf\n",
    "        if (not node.left) and (not node.right):\n",
    "            #only care if it's a new depth\n",
    "            if depth not in depths:\n",
    "                depths.append(depth)\n",
    "                \n",
    "                if ((len(depths) > 2) or\n",
    "                    (len(depths) == 2 and abs(depths[0] - depths[1]) > 1)):\n",
    "                    return False\n",
    "        else:\n",
    "            #case: this isn't a leaf - keep stepping down\n",
    "            if node.left:\n",
    "                nodes.append((node.left, depth + 1))\n",
    "            if node.right:\n",
    "                nodes.append((node.right, depth + 1))\n",
    "    \n",
    "    return True"
   ]
  },
  {
   "cell_type": "code",
   "execution_count": 2,
   "metadata": {},
   "outputs": [],
   "source": [
    "# Binary Search Tree Checker\n",
    "# Write a function to check that a binary tree is a valid binary search tree.\n",
    "\n",
    "def valid_BST(tree_node):\n",
    "    "
   ]
  },
  {
   "cell_type": "code",
   "execution_count": null,
   "metadata": {},
   "outputs": [],
   "source": [
    "# 2nd Largest Item in a Binary Search Tree\n",
    "# Find the second largest element in a BST."
   ]
  },
  {
   "cell_type": "code",
   "execution_count": 3,
   "metadata": {},
   "outputs": [],
   "source": [
    "# Graph Coloring\n",
    "# Color the nodes in a graph so adjacent nodes always have different colors."
   ]
  },
  {
   "cell_type": "code",
   "execution_count": null,
   "metadata": {},
   "outputs": [],
   "source": [
    "# MeshMessage\n",
    "# Given info about active users on the network, find the shortest route  for\n",
    "# a message from one user (sender) to another (recipient). Return a list of \n",
    "# users that make up this route."
   ]
  }
 ],
 "metadata": {
  "kernelspec": {
   "display_name": "Python 3",
   "language": "python",
   "name": "python3"
  },
  "language_info": {
   "codemirror_mode": {
    "name": "ipython",
    "version": 3
   },
   "file_extension": ".py",
   "mimetype": "text/x-python",
   "name": "python",
   "nbconvert_exporter": "python",
   "pygments_lexer": "ipython3",
   "version": "3.6.5"
  }
 },
 "nbformat": 4,
 "nbformat_minor": 2
}
